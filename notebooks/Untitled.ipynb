{
 "cells": [
  {
   "cell_type": "code",
   "execution_count": 1,
   "id": "7600a3d7-9a0b-4fea-9aaa-1b2cda77ba83",
   "metadata": {},
   "outputs": [],
   "source": [
    "import meems"
   ]
  },
  {
   "cell_type": "code",
   "execution_count": 2,
   "id": "d3f2aa12-840b-4250-a109-2eef6a837a34",
   "metadata": {},
   "outputs": [
    {
     "data": {
      "text/plain": [
       "<module 'meems' from '/Users/watdo/proj/mini-project/meems/__init__.py'>"
      ]
     },
     "execution_count": 2,
     "metadata": {},
     "output_type": "execute_result"
    }
   ],
   "source": [
    "meems\n"
   ]
  }
 ],
 "metadata": {
  "kernelspec": {
   "display_name": "Python 3 (ipykernel)",
   "language": "python",
   "name": "python3"
  },
  "language_info": {
   "codemirror_mode": {
    "name": "ipython",
    "version": 3
   },
   "file_extension": ".py",
   "mimetype": "text/x-python",
   "name": "python",
   "nbconvert_exporter": "python",
   "pygments_lexer": "ipython3",
   "version": "3.12.5"
  }
 },
 "nbformat": 4,
 "nbformat_minor": 5
}
